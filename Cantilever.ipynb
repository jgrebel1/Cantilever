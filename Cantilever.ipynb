{
 "cells": [
  {
   "cell_type": "code",
   "execution_count": 1,
   "metadata": {
    "collapsed": true
   },
   "outputs": [],
   "source": [
    "import numpy as np\n",
    "import matplotlib.image as mpimg\n",
    "import matplotlib.pyplot as plt\n",
    "%matplotlib inline"
   ]
  },
  {
   "cell_type": "markdown",
   "metadata": {},
   "source": [
    "#### Analytic Frequencies of Cantilever Modes:\n",
    "\n",
    "#####From \"Foundations of Nanomechanics\" by Andrew Cleland\n",
    "\n",
    "The Cantilever wave equation is \n",
    "\n",
    "$$ E I_y \\frac{\\partial^4 U}{\\partial z^4} = - \\rho A \\frac{\\partial^2 U}{\\partial t^2}$$\n",
    "\n",
    "The frequencies are determined by the equation\n",
    "\n",
    "$$\\cos(\\beta_n l) \\cosh(\\beta_n l) + 1 = 0 $$\n",
    "\n",
    "which has solutions $ \\beta_n l = 1.875, 4.694, 7.855, 10.996...$\n",
    "\n",
    "The corresponding frequencies are\n",
    "\n",
    "$$ f_n = \\frac{\\omega_n}{2\\pi} = \\frac{(\\beta_nL)^2}{2 \\pi L^2}\\sqrt{\\frac{E I}{\\rho A}}$$\n",
    "\n"
   ]
  },
  {
   "cell_type": "code",
   "execution_count": 2,
   "metadata": {
    "collapsed": false
   },
   "outputs": [],
   "source": [
    "BL = [1.8751,4.69409,7.8539, 10.996] #1/m\n",
    "L = 300*10**(-6) #m\n",
    "E = 1.53*10**11 #N/m^2\n",
    "w = 20*10**(-6) #m\n",
    "h = 2*10**(-6) #m\n",
    "I = w*h**3/12 #m^4\n",
    "r = 2330 #kg/m^3\n",
    "A = w*h #m^2"
   ]
  },
  {
   "cell_type": "code",
   "execution_count": 3,
   "metadata": {
    "collapsed": false,
    "scrolled": true
   },
   "outputs": [
    {
     "name": "stdout",
     "output_type": "stream",
     "text": [
      "29089.3232283 Hz\n",
      "182300.379995 Hz\n",
      "510335.1528 Hz\n",
      "1000355.14949 Hz\n"
     ]
    }
   ],
   "source": [
    "for B_nL in BL:\n",
    "    f_n = (B_nL**2/(2*np.pi*L**2))*np.sqrt(E*I/(r*A))\n",
    "    print f_n, 'Hz'"
   ]
  },
  {
   "cell_type": "markdown",
   "metadata": {},
   "source": [
    "The functional form for the displacement of mode n is\n",
    "\n",
    "$$ U_n = a_n(\\cos(\\beta_n z) - \\cosh(\\beta_n z)) + b_n(\\sin(\\beta_n z) - \\sinh(\\beta_n z)) $$\n",
    "\n",
    "with $a_n/b_n = -1.3622, -0.9819, -1.008, -1.000$"
   ]
  },
  {
   "cell_type": "code",
   "execution_count": 4,
   "metadata": {
    "collapsed": false,
    "scrolled": true
   },
   "outputs": [
    {
     "data": {
      "text/plain": [
       "[<matplotlib.lines.Line2D at 0xa3f3588>]"
      ]
     },
     "execution_count": 4,
     "metadata": {},
     "output_type": "execute_result"
    },
    {
     "data": {
      "image/png": "[encoded data removed]",
      "text/plain": [
       "<matplotlib.figure.Figure at 0xa3f34e0>"
      ]
     },
     "metadata": {},
     "output_type": "display_data"
    }
   ],
   "source": [
    "a = [-1.3622, -0.9819, -1.008, -1.000]\n",
    "b = [1, 1, 1 ,1]\n",
    "z = np.linspace(0,1)\n",
    "mode = 4\n",
    "B_nL = BL[mode-1]\n",
    "a_n = a[mode-1]\n",
    "b_n = b[mode-1]\n",
    "U_n = a_n*(np.cos(B_nL*z)-np.cosh(B_nL*z))+b_n*(np.sin(B_nL*z)-np.sinh(B_nL*z))\n",
    "f, ax = plt.subplots()\n",
    "ax.plot(z,U_n)\n"
   ]
  },
  {
   "cell_type": "markdown",
   "metadata": {},
   "source": [
    "####Driven Cantilever\n",
    "\n",
    "If we have a uniformly distributed force per unit length $f(z,t) = f_0 e^{i \\omega t}$ the undamped beam wave equation is modified\n",
    "\n",
    "$$ E I_y \\frac{\\partial^4 U}{\\partial z^4} = - \\rho A \\frac{\\partial^2 U}{\\partial t^2} +  f_0 e^{i \\omega t}$$\n",
    "\n",
    "The particular solution will have the same time dependence as $f(z,t)$\n",
    "\n",
    "$$E I_y \\frac{\\partial^4 U}{\\partial z^4} - \\rho A \\omega_d^2 U(z) =  f_0 $$\n",
    "\n",
    "The complete set of functions satisfying the boundary conditions are\n",
    "\n",
    "$$ \\sum_{n=1}^{\\infty} a_n(\\cos(\\beta_n z) - \\cosh(\\beta_n z)) + b_n(\\sin(\\beta_n z) - \\sinh(\\beta_n z))$$\n",
    "\n",
    "Inserting this into the wave equation and assuming the modes are sufficiently uncoupled from each other\n",
    "\n",
    "$$(E I_y \\beta_n^4 - \\rho A \\omega_d^2)a_n(\\cos(\\beta_n z) - \\cosh(beta_n z)) + b_n(\\sin(\\beta_n z) - \\sinh(\\beta_n z)) =  f_0 $$\n",
    "\n",
    "$$ a_n(\\cos(\\beta_n z) - \\cosh(\\beta_n z)) + b_n(\\sin(\\beta_n z) - \\sinh(\\beta_n z)) =  \\frac{f_0}{\\rho A (\\omega_n^2-\\omega_d^2)} $$\n",
    "\n",
    "From the boundary conditions at l we find the frequency dependent relationship between the amplitudes $a_n$ and $b_n$\n",
    "\n",
    "$$ a_n = \\frac{\\frac{f_0}{\\rho A (\\omega_n^2-\\omega_d^2)} - b_n(\\sin(\\beta_n l) - \\sinh(\\beta_n l))}{\\cos(\\beta_n l) - \\cosh(\\beta_n l)} $$"
   ]
  },
  {
   "cell_type": "markdown",
   "metadata": {},
   "source": [
    "Plotting the frequency dependent displacement of the cantilever tip for the fundamental mode"
   ]
  },
  {
   "cell_type": "code",
   "execution_count": 5,
   "metadata": {
    "collapsed": false
   },
   "outputs": [
    {
     "data": {
      "text/plain": [
       "[<matplotlib.lines.Line2D at 0xa3f3358>]"
      ]
     },
     "execution_count": 5,
     "metadata": {},
     "output_type": "execute_result"
    },
    {
     "data": {
      "image/png": "[encoded data removed]",
      "text/plain": [
       "<matplotlib.figure.Figure at 0xa3e3390>"
      ]
     },
     "metadata": {},
     "output_type": "display_data"
    }
   ],
   "source": [
    "mode=1\n",
    "f_0 = 1\n",
    "B_nL = BL[mode-1]\n",
    "f_n = (B_nL**2/(2*np.pi*L**2))*np.sqrt(E*I/(r*A))\n",
    "w_n = f_n*2*np.pi\n",
    "f_d = np.linspace(f_n-f_n/10000,f_n+f_n/10000)\n",
    "w_d = f_d*2*np.pi\n",
    "b = [1,1,1,1]\n",
    "b_n = b[mode-1]\n",
    "a_n = ((f_0/(r*A*(w_n**2-w_d**2)))-b_n*(np.sin(B_nL)-np.sinh(B_nL)))/(np.cos(B_nL)-np.cosh(B_nL))\n",
    "#a_n = a[mode-1]\n",
    "U_n = a_n*(np.cos(B_nL*z)-np.cosh(B_nL*z))+b_n*(np.sin(B_nL*z)-np.sinh(B_nL*z))\n",
    "f2, ax2 = plt.subplots()\n",
    "ax2.plot(f_d,U_n)"
   ]
  },
  {
   "cell_type": "markdown",
   "metadata": {},
   "source": [
    "#### Comsol Simulation"
   ]
  },
  {
   "cell_type": "code",
   "execution_count": 6,
   "metadata": {
    "collapsed": false,
    "scrolled": true
   },
   "outputs": [
    {
     "ename": "IOError",
     "evalue": "[Errno 2] No such file or directory: '20150721_cantilever_mode1.png'",
     "output_type": "error",
     "traceback": [
      "\u001b[1;31m---------------------------------------------------------------------------\u001b[0m",
      "\u001b[1;31mIOError\u001b[0m                                   Traceback (most recent call last)",
      "\u001b[1;32m<ipython-input-6-4fd9a42a03dd>\u001b[0m in \u001b[0;36m<module>\u001b[1;34m()\u001b[0m\n\u001b[1;32m----> 1\u001b[1;33m \u001b[0mmode1\u001b[0m \u001b[1;33m=\u001b[0m \u001b[0mmpimg\u001b[0m\u001b[1;33m.\u001b[0m\u001b[0mimread\u001b[0m\u001b[1;33m(\u001b[0m\u001b[1;34m'20150721_cantilever_mode1.png'\u001b[0m\u001b[1;33m)\u001b[0m\u001b[1;33m\u001b[0m\u001b[0m\n\u001b[0m\u001b[0;32m      2\u001b[0m \u001b[0mmode2\u001b[0m \u001b[1;33m=\u001b[0m \u001b[0mmpimg\u001b[0m\u001b[1;33m.\u001b[0m\u001b[0mimread\u001b[0m\u001b[1;33m(\u001b[0m\u001b[1;34m'20150721_cantilever_mode2.png'\u001b[0m\u001b[1;33m)\u001b[0m\u001b[1;33m\u001b[0m\u001b[0m\n\u001b[0;32m      3\u001b[0m \u001b[0mmode3\u001b[0m \u001b[1;33m=\u001b[0m \u001b[0mmpimg\u001b[0m\u001b[1;33m.\u001b[0m\u001b[0mimread\u001b[0m\u001b[1;33m(\u001b[0m\u001b[1;34m'20150721_cantilever_mode3.png'\u001b[0m\u001b[1;33m)\u001b[0m\u001b[1;33m\u001b[0m\u001b[0m\n",
      "\u001b[1;32mC:\\Users\\Lab1\\Anaconda\\lib\\site-packages\\matplotlib\\image.pyc\u001b[0m in \u001b[0;36mimread\u001b[1;34m(fname, format)\u001b[0m\n\u001b[0;32m   1265\u001b[0m     \u001b[1;31m# tricky in C.\u001b[0m\u001b[1;33m\u001b[0m\u001b[1;33m\u001b[0m\u001b[0m\n\u001b[0;32m   1266\u001b[0m     \u001b[1;32mif\u001b[0m \u001b[0mcbook\u001b[0m\u001b[1;33m.\u001b[0m\u001b[0mis_string_like\u001b[0m\u001b[1;33m(\u001b[0m\u001b[0mfname\u001b[0m\u001b[1;33m)\u001b[0m\u001b[1;33m:\u001b[0m\u001b[1;33m\u001b[0m\u001b[0m\n\u001b[1;32m-> 1267\u001b[1;33m         \u001b[1;32mwith\u001b[0m \u001b[0mopen\u001b[0m\u001b[1;33m(\u001b[0m\u001b[0mfname\u001b[0m\u001b[1;33m,\u001b[0m \u001b[1;34m'rb'\u001b[0m\u001b[1;33m)\u001b[0m \u001b[1;32mas\u001b[0m \u001b[0mfd\u001b[0m\u001b[1;33m:\u001b[0m\u001b[1;33m\u001b[0m\u001b[0m\n\u001b[0m\u001b[0;32m   1268\u001b[0m             \u001b[1;32mreturn\u001b[0m \u001b[0mhandler\u001b[0m\u001b[1;33m(\u001b[0m\u001b[0mfd\u001b[0m\u001b[1;33m)\u001b[0m\u001b[1;33m\u001b[0m\u001b[0m\n\u001b[0;32m   1269\u001b[0m     \u001b[1;32melse\u001b[0m\u001b[1;33m:\u001b[0m\u001b[1;33m\u001b[0m\u001b[0m\n",
      "\u001b[1;31mIOError\u001b[0m: [Errno 2] No such file or directory: '20150721_cantilever_mode1.png'"
     ]
    }
   ],
   "source": [
    "mode1 = mpimg.imread('20150721_cantilever_mode1.png')\n",
    "mode2 = mpimg.imread('20150721_cantilever_mode2.png')\n",
    "mode3 = mpimg.imread('20150721_cantilever_mode3.png')"
   ]
  },
  {
   "cell_type": "code",
   "execution_count": null,
   "metadata": {
    "collapsed": false
   },
   "outputs": [],
   "source": [
    "\n",
    "c_modes = [mode1, mode2, mode3]\n",
    "for img in c_modes:\n",
    "    plt.figure()\n",
    "    plt.imshow(img)\n",
    "    plt.show()"
   ]
  },
  {
   "cell_type": "code",
   "execution_count": null,
   "metadata": {
    "collapsed": true
   },
   "outputs": [],
   "source": []
  }
 ],
 "metadata": {
  "kernelspec": {
   "display_name": "Python 2",
   "language": "python",
   "name": "python2"
  },
  "language_info": {
   "codemirror_mode": {
    "name": "ipython",
    "version": 2
   },
   "file_extension": ".py",
   "mimetype": "text/x-python",
   "name": "python",
   "nbconvert_exporter": "python",
   "pygments_lexer": "ipython2",
   "version": "2.7.10"
  }
 },
 "nbformat": 4,
 "nbformat_minor": 0
}
